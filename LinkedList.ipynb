{
 "cells": [
  {
   "cell_type": "code",
   "execution_count": null,
   "metadata": {},
   "outputs": [],
   "source": [
    "class ListNode:\n",
    "    def __init__(self, x):\n",
    "        self.val = x\n",
    "        self.next = None\n",
    "    \n",
    "    def print(self):\n",
    "        cur = self\n",
    "        while cur:\n",
    "            print(cur.val)\n",
    "            cur = cur.next"
   ]
  },
  {
   "cell_type": "code",
   "execution_count": 2,
   "metadata": {},
   "outputs": [],
   "source": [
    "# 876. Middle of the Linked List\n",
    "# https://leetcode.com/problems/middle-of-the-linked-list/\n",
    "class Solution:\n",
    "    def middleNode(self, head: ListNode) -> ListNode:\n",
    "        fast = slow = head\n",
    "        while fast and fast.next:\n",
    "            fast = fast.next.next\n",
    "            slow = slow.next\n",
    "        return slow"
   ]
  },
  {
   "cell_type": "code",
   "execution_count": 8,
   "metadata": {},
   "outputs": [],
   "source": [
    "# 203. Remove Linked List Elements\n",
    "# https://leetcode.com/problems/remove-linked-list-elements/\n",
    "class Solution:\n",
    "    def removeElements(self, head: ListNode, val: int) -> ListNode:\n",
    "        prefix = ListNode(0); prefix.next = head\n",
    "        prev = prefix; cur = head\n",
    "        while cur:\n",
    "            if cur.val == val:\n",
    "                prev.next = cur.next\n",
    "                cur = cur.next\n",
    "            else:\n",
    "                prev = cur\n",
    "                cur = cur.next\n",
    "        return prefix.next"
   ]
  },
  {
   "cell_type": "code",
   "execution_count": null,
   "metadata": {},
   "outputs": [],
   "source": [
    "# 83. Remove Duplicates from Sorted List\n",
    "# https://leetcode.com/problems/remove-duplicates-from-sorted-list/\n",
    "class Solution:\n",
    "    def deleteDuplicates(self, head: ListNode) -> ListNode:\n",
    "        if not head: return head\n",
    "        prev = head; cur = head.next\n",
    "        while cur:\n",
    "            if cur.val == prev.val:\n",
    "                prev.next = cur.next\n",
    "            else:\n",
    "                prev = cur\n",
    "            cur = cur.next\n",
    "        return head"
   ]
  },
  {
   "cell_type": "code",
   "execution_count": null,
   "metadata": {},
   "outputs": [],
   "source": [
    "# 82. Remove Duplicates from Sorted List II\n",
    "# https://leetcode.com/problems/remove-duplicates-from-sorted-list-ii/\n",
    "class Solution:\n",
    "    def deleteDuplicates(self, head: ListNode) -> ListNode:\n",
    "        dummy = ListNode(0); dummy.next = head\n",
    "        cur = dummy\n",
    "        while cur.next and cur.next.next:\n",
    "            if cur.next.val != cur.next.next.val:\n",
    "                cur = cur.next\n",
    "            else:\n",
    "                val = cur.next.val\n",
    "                node = cur.next.next\n",
    "                while node and node.val == val:\n",
    "                    node = node.next\n",
    "                cur.next = node\n",
    "        return dummy.next"
   ]
  },
  {
   "cell_type": "code",
   "execution_count": 14,
   "metadata": {},
   "outputs": [],
   "source": [
    "# 206. Reverse Linked List\n",
    "# https://leetcode.com/problems/reverse-linked-list/\n",
    "class Solution:\n",
    "    def reverseList(self, head: ListNode) -> ListNode:\n",
    "        if not head: return head\n",
    "        cur = head; prev = _next = None\n",
    "        while cur :\n",
    "            _next = cur.next\n",
    "            cur.next = prev\n",
    "            prev = cur\n",
    "            cur = _next\n",
    "        return prev"
   ]
  },
  {
   "cell_type": "code",
   "execution_count": null,
   "metadata": {},
   "outputs": [],
   "source": [
    "Reverse Linked List II"
   ]
  },
  {
   "cell_type": "code",
   "execution_count": 34,
   "metadata": {},
   "outputs": [],
   "source": [
    "# 21. Merge Two Sorted Lists\n",
    "# https://leetcode.com/problems/merge-two-sorted-lists/\n",
    "class Solution:\n",
    "    def mergeTwoLists(self, l1: ListNode, l2: ListNode) -> ListNode:\n",
    "        dummy_head = ListNode(0)\n",
    "        cur = dummy_head\n",
    "        while l1 and l2:\n",
    "            if l1.val <= l2.val:\n",
    "                cur.next = l1\n",
    "                l1 = l1.next\n",
    "            else:\n",
    "                cur.next = l2\n",
    "                l2 = l2.next\n",
    "            cur = cur.next\n",
    "        if l1:\n",
    "            cur.next = l1\n",
    "        if l2:\n",
    "            cur.next = l2\n",
    "        return dummy_head.next"
   ]
  },
  {
   "cell_type": "code",
   "execution_count": 36,
   "metadata": {},
   "outputs": [],
   "source": [
    "# 166. Nth to Last Node in List\n",
    "# https://www.lintcode.com/problem/nth-to-last-node-in-list/description\n",
    "class Solution:\n",
    "    def nthToLast(self, head, n):\n",
    "        fast = slow = head\n",
    "        step = 0\n",
    "        while slow and fast:\n",
    "            if step < n:\n",
    "                fast = fast.next\n",
    "            else:\n",
    "                fast = fast.next\n",
    "                slow = slow.next\n",
    "            step += 1\n",
    "        return slow\n"
   ]
  },
  {
   "cell_type": "code",
   "execution_count": null,
   "metadata": {},
   "outputs": [],
   "source": [
    "# 174. Remove Nth Node From End of List\n",
    "# https://www.lintcode.com/problem/remove-nth-node-from-end-of-list/description\n",
    "class Solution:\n",
    "    def removeNthFromEnd(self, head, n):\n",
    "        dummy = ListNode(0); dummy.next = head\n",
    "        fast = slow = dummy\n",
    "        step = 0\n",
    "        while fast:\n",
    "            if step <= n:\n",
    "                fast = fast.next\n",
    "            else:\n",
    "                fast = fast.next\n",
    "                slow = slow.next\n",
    "            step += 1\n",
    "        if slow and slow.next:\n",
    "            slow.next = slow.next.next\n",
    "        return dummy.next"
   ]
  },
  {
   "cell_type": "code",
   "execution_count": null,
   "metadata": {},
   "outputs": [],
   "source": [
    "# 86. Partition List\n",
    "# https://leetcode.com/problems/partition-list/\n",
    "class Solution:\n",
    "    def partition(self, head: ListNode, x: int) -> ListNode:\n",
    "        cur = head\n",
    "        less_head = ListNode(0); large_head = ListNode(0)\n",
    "        less_cur = less_head; large_cur = large_head\n",
    "        while cur:\n",
    "            if cur.val < x:\n",
    "                less_cur.next = cur\n",
    "                less_cur = cur\n",
    "            else:\n",
    "                large_cur.next = cur\n",
    "                large_cur = cur\n",
    "            cur = cur.next\n",
    "        large_cur.next = None\n",
    "        less_cur.next = large_head.next\n",
    "        return less_head.next"
   ]
  },
  {
   "cell_type": "code",
   "execution_count": null,
   "metadata": {},
   "outputs": [],
   "source": [
    "# 148. Sort List\n",
    "# https://leetcode.com/problems/sort-list/\n",
    "class Solution:\n",
    "    def sortList(self, head: ListNode) -> ListNode:\n",
    "        if not head: return head\n",
    "        if not head.next: return head\n",
    "        mid = self.findMid(head)\n",
    "        l2 = self.sortList(mid.next)\n",
    "        mid.next = None\n",
    "        l1 = self.sortList(head)\n",
    "        return self.merge(l1, l2)\n",
    "    \n",
    "    def findMid(self, head: ListNode) -> ListNode:\n",
    "        fast = slow = head\n",
    "        while fast and fast.next and fast.next.next:\n",
    "            fast = fast.next.next\n",
    "            slow = slow.next\n",
    "        return slow\n",
    "    \n",
    "    def merge(self, l1, l2):\n",
    "        dummy = ListNode(0); node = dummy\n",
    "        while l1 and l2:\n",
    "            if l1.val <= l2.val:\n",
    "                node.next = l1\n",
    "                l1 = l1.next\n",
    "            else:\n",
    "                node.next = l2\n",
    "                l2 = l2.next\n",
    "            node = node.next\n",
    "        if l1:\n",
    "            node.next = l1\n",
    "        if l2:\n",
    "            node.next = l2\n",
    "        return dummy.next"
   ]
  },
  {
   "cell_type": "code",
   "execution_count": null,
   "metadata": {},
   "outputs": [],
   "source": [
    "# 143. Reorder List\n",
    "# https://leetcode.com/problems/reorder-list/\n",
    "class Solution:\n",
    "    def reorderList(self, head: ListNode) -> None:\n",
    "        if not head: return head\n",
    "        fast = slow = head\n",
    "        while fast and fast.next:\n",
    "            fast = fast.next.next\n",
    "            slow = slow.next\n",
    "        node = head; last = slow.next\n",
    "        slow.next = None\n",
    "        insert = self.reverse(last)\n",
    "        while insert:\n",
    "            tmp_node = node.next\n",
    "            node.next = insert\n",
    "            insert = insert.next\n",
    "            node.next.next = tmp_node\n",
    "            node = tmp_node\n",
    "    \n",
    "    def reverse(self, head: ListNode) -> ListNode:\n",
    "        if not head: return head\n",
    "        cur = head; prev = None\n",
    "        while cur:\n",
    "            next_node = cur.next\n",
    "            cur.next = prev\n",
    "            prev = cur\n",
    "            cur = next_node\n",
    "        return prev"
   ]
  },
  {
   "cell_type": "code",
   "execution_count": null,
   "metadata": {},
   "outputs": [],
   "source": [
    "# 61. Rotate List\n",
    "# https://leetcode.com/problems/rotate-list/\n"
   ]
  },
  {
   "cell_type": "code",
   "execution_count": null,
   "metadata": {},
   "outputs": [],
   "source": [
    "Add Two Number"
   ]
  },
  {
   "cell_type": "code",
   "execution_count": null,
   "metadata": {},
   "outputs": [],
   "source": [
    "Insertion Sort List"
   ]
  },
  {
   "cell_type": "code",
   "execution_count": null,
   "metadata": {},
   "outputs": [],
   "source": [
    "# 141. Linked List Cycle\n",
    "# https://leetcode.com/problems/linked-list-cycle/\n",
    "class Solution(object):\n",
    "    def hasCycle(self, head):\n",
    "        fast = slow = head\n",
    "        while fast and fast.next:\n",
    "            fast = fast.next.next\n",
    "            slow = slow.next\n",
    "            if fast == slow:\n",
    "                return True\n",
    "        return False"
   ]
  },
  {
   "cell_type": "code",
   "execution_count": null,
   "metadata": {},
   "outputs": [],
   "source": [
    "# 142. Linked List Cycle II\n",
    "# https://leetcode.com/problems/linked-list-cycle-ii/\n",
    "class Solution(object):\n",
    "    def detectCycle(self, head):\n",
    "        fast = slow = head\n",
    "        while fast and fast.next:\n",
    "            fast = fast.next.next\n",
    "            slow = slow.next\n",
    "            if fast == slow:\n",
    "                node = head\n",
    "                while node != slow:\n",
    "                    slow = slow.next\n",
    "                    node = node.next\n",
    "                return node\n",
    "        return None"
   ]
  },
  {
   "cell_type": "code",
   "execution_count": null,
   "metadata": {},
   "outputs": [],
   "source": [
    "# 138. Copy List with Random Pointer\n",
    "# https://leetcode.com/problems/copy-list-with-random-pointer/\n",
    "class Solution:\n",
    "    def copyRandomList(self, head: 'Node') -> 'Node':\n",
    "        node_map = {}\n",
    "        cur = head\n",
    "        while cur:\n",
    "            node_map[cur] = Node(cur.val, None, None)\n",
    "            cur = cur.next\n",
    "        cur = head\n",
    "        while cur:\n",
    "            new_node = node_map[cur]\n",
    "            new_node.next = node_map.get(cur.next)\n",
    "            new_node.random = node_map.get(cur.random)\n",
    "            cur = cur.next\n",
    "        return node_map.get(head)"
   ]
  },
  {
   "cell_type": "code",
   "execution_count": null,
   "metadata": {},
   "outputs": [],
   "source": [
    "Merge K Sorted Lists"
   ]
  }
 ],
 "metadata": {
  "kernelspec": {
   "display_name": "Python 3",
   "language": "python",
   "name": "python3"
  },
  "language_info": {
   "codemirror_mode": {
    "name": "ipython",
    "version": 3
   },
   "file_extension": ".py",
   "mimetype": "text/x-python",
   "name": "python",
   "nbconvert_exporter": "python",
   "pygments_lexer": "ipython3",
   "version": "3.6.7"
  }
 },
 "nbformat": 4,
 "nbformat_minor": 2
}
