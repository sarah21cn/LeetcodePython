{
 "cells": [
  {
   "cell_type": "code",
   "execution_count": null,
   "metadata": {},
   "outputs": [],
   "source": [
    "# ** 851. Loud and Rich\n",
    "# 本质是一道dfs的题目\n",
    "from collections import defaultdict\n",
    "\n",
    "class Solution:\n",
    "    def loudAndRich(self, richer: List[List[int]], quiet: List[int]) -> List[int]:\n",
    "        dd = defaultdict(lambda: [])\n",
    "        for i, j in richer:\n",
    "            dd[j].append(i)\n",
    "        res = [-1]*len(quiet)\n",
    "        \n",
    "        def dfs(i):\n",
    "            # 剪枝必不可少，否则会超时\n",
    "            if res[i] >= 0:\n",
    "                return res[i]\n",
    "            res[i] = i\n",
    "            for j in dd[i]:\n",
    "                if quiet[res[i]] > quiet[dfs(j)]:\n",
    "                    res[i] = res[j]\n",
    "            return res[i]\n",
    "            \n",
    "        for i in range(len(quiet)): \n",
    "            dfs(i)\n",
    "        return res"
   ]
  }
 ],
 "metadata": {
  "kernelspec": {
   "display_name": "Python 3",
   "language": "python",
   "name": "python3"
  },
  "language_info": {
   "codemirror_mode": {
    "name": "ipython",
    "version": 3
   },
   "file_extension": ".py",
   "mimetype": "text/x-python",
   "name": "python",
   "nbconvert_exporter": "python",
   "pygments_lexer": "ipython3",
   "version": "3.6.7"
  }
 },
 "nbformat": 4,
 "nbformat_minor": 2
}
