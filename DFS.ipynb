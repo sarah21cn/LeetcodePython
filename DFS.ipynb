{
 "cells": [
  {
   "cell_type": "code",
   "execution_count": null,
   "metadata": {},
   "outputs": [],
   "source": [
    "# ** 851. Loud and Rich\n",
    "# 本质是一道dfs的题目\n",
    "from collections import defaultdict\n",
    "\n",
    "class Solution:\n",
    "    def loudAndRich(self, richer: List[List[int]], quiet: List[int]) -> List[int]:\n",
    "        dd = defaultdict(lambda: [])\n",
    "        for i, j in richer:\n",
    "            dd[j].append(i)\n",
    "        res = [-1]*len(quiet)\n",
    "        \n",
    "        def dfs(i):\n",
    "            # 剪枝必不可少，否则会超时\n",
    "            if res[i] >= 0:\n",
    "                return res[i]\n",
    "            res[i] = i\n",
    "            for j in dd[i]:\n",
    "                if quiet[res[i]] > quiet[dfs(j)]:\n",
    "                    res[i] = res[j]\n",
    "            return res[i]\n",
    "            \n",
    "        for i in range(len(quiet)): \n",
    "            dfs(i)\n",
    "        return res"
   ]
  },
  {
   "cell_type": "code",
   "execution_count": null,
   "metadata": {},
   "outputs": [],
   "source": [
    "# 464. Can I Win\n",
    "class Solution:\n",
    "    def canIWin(self, maxChoosableInteger: int, desiredTotal: int) -> bool:\n",
    "        if (1 + maxChoosableInteger) * maxChoosableInteger/2 < desiredTotal:\n",
    "            return False\n",
    "        self.memo = {}\n",
    "        return self.helper([x for x in range(1, maxChoosableInteger+1)], desiredTotal)\n",
    "        \n",
    "    def helper(self, nums, curTotal):\n",
    "        hash = str(nums)\n",
    "        if hash in self.memo:\n",
    "            return self.memo[hash]\n",
    "        \n",
    "        if len(nums) > 0 and curTotal <= nums[-1]:\n",
    "            return True\n",
    "        \n",
    "        for i in range(len(nums)):\n",
    "            if not self.helper(nums[:i] + nums[i+1:], curTotal - nums[i]):\n",
    "                self.memo[hash] = True\n",
    "                return True\n",
    "        self.memo[hash] = False\n",
    "        return False"
   ]
  }
 ],
 "metadata": {
  "kernelspec": {
   "display_name": "Python 3",
   "language": "python",
   "name": "python3"
  },
  "language_info": {
   "codemirror_mode": {
    "name": "ipython",
    "version": 3
   },
   "file_extension": ".py",
   "mimetype": "text/x-python",
   "name": "python",
   "nbconvert_exporter": "python",
   "pygments_lexer": "ipython3",
   "version": "3.6.7"
  }
 },
 "nbformat": 4,
 "nbformat_minor": 2
}
