{
 "cells": [
  {
   "cell_type": "code",
   "execution_count": null,
   "metadata": {},
   "outputs": [],
   "source": [
    "# 345. Reverse Vowels of a String\n",
    "class Solution:\n",
    "    def reverseVowels(self, s: str) -> str:\n",
    "        vowels = \"aeiouAEIOU\"\n",
    "        s = list(s)\n",
    "        start, end = 0, len(s)-1\n",
    "        while(start < end):\n",
    "            while(start < end and vowels.find(s[start]) == -1):\n",
    "                start += 1\n",
    "            while(start < end and vowels.find(s[end]) == -1):\n",
    "                end -= 1\n",
    "            \n",
    "            tmp = s[start]\n",
    "            s[start] = s[end]\n",
    "            s[end] = tmp\n",
    "            start += 1\n",
    "            end -= 1\n",
    "        return ''.join(map(str, s))"
   ]
  },
  {
   "cell_type": "code",
   "execution_count": null,
   "metadata": {},
   "outputs": [],
   "source": []
  }
 ],
 "metadata": {
  "kernelspec": {
   "display_name": "Python 3",
   "language": "python",
   "name": "python3"
  },
  "language_info": {
   "codemirror_mode": {
    "name": "ipython",
    "version": 3
   },
   "file_extension": ".py",
   "mimetype": "text/x-python",
   "name": "python",
   "nbconvert_exporter": "python",
   "pygments_lexer": "ipython3",
   "version": "3.6.7"
  }
 },
 "nbformat": 4,
 "nbformat_minor": 2
}
