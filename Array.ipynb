{
 "cells": [
  {
   "cell_type": "code",
   "execution_count": null,
   "metadata": {},
   "outputs": [],
   "source": [
    "# 283. Move Zeroes\n",
    "# 方法1\n",
    "class Solution:\n",
    "    def moveZeroes(self, nums: List[int]) -> None:\n",
    "        n = len(nums)\n",
    "        slow, fast = -1, 0\n",
    "        while fast < n:\n",
    "            if nums[fast] == 0:\n",
    "                if slow < 0: \n",
    "                    slow = fast\n",
    "                fast += 1\n",
    "            else:\n",
    "                if slow < 0: fast += 1\n",
    "                else: \n",
    "                    nums[slow] = nums[fast]\n",
    "                    slow += 1\n",
    "                    fast += 1\n",
    "        if(slow > 0):\n",
    "            while slow < n:\n",
    "                nums[slow] = 0\n",
    "                slow += 1\n",
    "# 方法2\n",
    "class Solution:\n",
    "    def moveZeroes(self, nums: List[int]) -> None:\n",
    "        pos = 0\n",
    "        for num in nums:\n",
    "            if num != 0: \n",
    "                nums[pos] = num; \n",
    "                pos += 1\n",
    "        while pos < len(nums):\n",
    "            nums[pos] = 0; \n",
    "            pos += 1"
   ]
  },
  {
   "cell_type": "code",
   "execution_count": null,
   "metadata": {},
   "outputs": [],
   "source": [
    "# 674. Longest Continuous Increasing Subsequence\n",
    "class Solution:\n",
    "    def findLengthOfLCIS(self, nums: List[int]) -> int:\n",
    "        if len(nums) <= 0: return 0\n",
    "        _res, _max = 0, 1\n",
    "        for index in range(0, len(nums) - 1):\n",
    "            if nums[index + 1] > nums[index]:\n",
    "                _max += 1\n",
    "            else:\n",
    "                _res = max(_res, _max)\n",
    "                _max = 1\n",
    "        return max(_res, _max)"
   ]
  },
  {
   "cell_type": "code",
   "execution_count": null,
   "metadata": {},
   "outputs": [],
   "source": [
    "# 1089. Duplicate Zeros\n",
    "class Solution:\n",
    "    def duplicateZeros(self, arr: List[int]) -> None:\n",
    "        n = len(arr)\n",
    "        shift = 0\n",
    "        for num in arr:\n",
    "            if num == 0: shift += 1\n",
    "        for i in range(n-1, -1, -1):\n",
    "            if i + shift < n:\n",
    "                arr[i+shift] = arr[i]\n",
    "            if arr[i] == 0:\n",
    "                shift -= 1\n",
    "                if i + shift < n:\n",
    "                    arr[i+shift] = arr[i]"
   ]
  },
  {
   "cell_type": "code",
   "execution_count": null,
   "metadata": {},
   "outputs": [],
   "source": [
    "# 75. Sort Colors \n",
    "class Solution:\n",
    "    def sortColors(self, nums: List[int]) -> None:\n",
    "        i = j = 0\n",
    "        for k in range(len(nums)):\n",
    "            tmp = nums[k]\n",
    "            nums[k] = 2\n",
    "            if tmp < 2:\n",
    "                nums[j] = 1\n",
    "                j += 1\n",
    "            if tmp == 0:\n",
    "                nums[i] = 0\n",
    "                i += 1"
   ]
  },
  {
   "cell_type": "code",
   "execution_count": null,
   "metadata": {},
   "outputs": [],
   "source": [
    "# 287. Find the Duplicate Number\n",
    "# 方法1：（二分）\n",
    "class Solution:\n",
    "    def findDuplicate(self, nums: List[int]) -> int:\n",
    "        low, high = 1, len(nums)\n",
    "        while low < high:\n",
    "            mid = (low + high) // 2\n",
    "            cnt = sum(x <= mid for x in nums)\n",
    "            if cnt > mid:\n",
    "                high = mid\n",
    "            else:\n",
    "                low = mid + 1\n",
    "        return low\n",
    "# 方法2：\n",
    "# 参考：http://bookshadow.com/weblog/2015/09/28/leetcode-find-duplicate-number/\n"
   ]
  },
  {
   "cell_type": "code",
   "execution_count": null,
   "metadata": {},
   "outputs": [],
   "source": [
    "# 628. Maximum Product of Three Numbers\n",
    "# 方法1：\n",
    "class Solution:\n",
    "    def maximumProduct(self, nums: List[int]) -> int:\n",
    "        nums.sort()\n",
    "        return max(nums[-1] * nums[-2] * nums[-3], nums[0] * nums[1] * nums[-1])\n",
    "\n",
    "# 方法2：\n",
    "import sys\n",
    "\n",
    "class Solution:\n",
    "    def maximumProduct(self, nums: List[int]) -> int:\n",
    "        MAX_VALUE = sys.maxsize\n",
    "        MIN_VALUE = -MAX_VALUE - 1\n",
    "        max1, max2, max3, min1, min2 = MIN_VALUE, MIN_VALUE, MIN_VALUE, MAX_VALUE, MAX_VALUE\n",
    "        for num in nums:\n",
    "            if num > max1:\n",
    "                max3 = max2\n",
    "                max2 = max1\n",
    "                max1 = num\n",
    "            elif num > max2:\n",
    "                max3 = max2\n",
    "                max2 = num\n",
    "            elif num > max3:\n",
    "                max3 = num\n",
    "            \n",
    "            if num < min1:\n",
    "                min2 = min1\n",
    "                min1 = num\n",
    "            elif num < min2:\n",
    "                min2 = num\n",
    "            \n",
    "        return max(max1*max2*max3, max1*min1*min2)"
   ]
  },
  {
   "cell_type": "code",
   "execution_count": null,
   "metadata": {},
   "outputs": [],
   "source": [
    "# 217. Contains Duplicate\n",
    "class Solution:\n",
    "    def containsDuplicate(self, nums: List[int]) -> bool:\n",
    "        return len(nums) != len(set(nums))"
   ]
  },
  {
   "cell_type": "code",
   "execution_count": null,
   "metadata": {},
   "outputs": [],
   "source": [
    "# 219. Contains Duplicate II\n",
    "class Solution(object):\n",
    "    def containsNearbyDuplicate(self, nums, k):\n",
    "        nums_set = set()\n",
    "        for i in range(len(nums)):\n",
    "            if i > k: nums_set.remove(nums[i-k-1])\n",
    "            if nums[i] in nums_set: return True\n",
    "            nums_set.add(nums[i])\n",
    "        return False"
   ]
  },
  {
   "cell_type": "code",
   "execution_count": null,
   "metadata": {},
   "outputs": [],
   "source": [
    "# 852. Peak Index in a Mountain Array\n",
    "class Solution:\n",
    "    def peakIndexInMountainArray(self, A: List[int]) -> int:\n",
    "        for i in range(1, len(A)):\n",
    "            if(A[i] < A[i-1]):\n",
    "                return i-1"
   ]
  },
  {
   "cell_type": "code",
   "execution_count": null,
   "metadata": {},
   "outputs": [],
   "source": [
    "# * 853. Car Fleet\n",
    "class Solution:\n",
    "    def carFleet(self, target: int, position: List[int], speed: List[int]) -> int:\n",
    "        time = [(target-p) / s for p,s in sorted(zip(position, speed))]\n",
    "        res = cur = 0\n",
    "        for t in time[::-1]:\n",
    "            if t > cur:\n",
    "                res += 1\n",
    "                cur = t\n",
    "        return res"
   ]
  },
  {
   "cell_type": "code",
   "execution_count": null,
   "metadata": {},
   "outputs": [],
   "source": [
    "# 455. Assign Cookies\n",
    "class Solution:\n",
    "    def findContentChildren(self, g: List[int], s: List[int]) -> int:\n",
    "        g.sort(); s.sort()\n",
    "        g_index = s_index = res = 0\n",
    "        while s_index < len(s) and g_index < len(g):\n",
    "            if(s[s_index] >= g[g_index]):\n",
    "                res += 1\n",
    "                s_index += 1\n",
    "                g_index += 1\n",
    "            else:\n",
    "                s_index += 1\n",
    "        return res"
   ]
  },
  {
   "cell_type": "code",
   "execution_count": null,
   "metadata": {},
   "outputs": [],
   "source": [
    "# * 459. Repeated Substring Pattern\n",
    "class Solution:\n",
    "    def repeatedSubstringPattern(self, s: str) -> bool:\n",
    "        s1 = s + s\n",
    "        return s1[1:-1].find(s) != -1"
   ]
  },
  {
   "cell_type": "code",
   "execution_count": null,
   "metadata": {},
   "outputs": [],
   "source": []
  }
 ],
 "metadata": {
  "kernelspec": {
   "display_name": "Python 3",
   "language": "python",
   "name": "python3"
  },
  "language_info": {
   "codemirror_mode": {
    "name": "ipython",
    "version": 3
   },
   "file_extension": ".py",
   "mimetype": "text/x-python",
   "name": "python",
   "nbconvert_exporter": "python",
   "pygments_lexer": "ipython3",
   "version": "3.6.7"
  }
 },
 "nbformat": 4,
 "nbformat_minor": 2
}
