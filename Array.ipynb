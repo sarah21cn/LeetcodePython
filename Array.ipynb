{
 "cells": [
  {
   "cell_type": "code",
   "execution_count": null,
   "metadata": {},
   "outputs": [],
   "source": [
    "# 283. Move Zeroes\n",
    "# 方法1\n",
    "class Solution:\n",
    "    def moveZeroes(self, nums: List[int]) -> None:\n",
    "        n = len(nums)\n",
    "        slow, fast = -1, 0\n",
    "        while fast < n:\n",
    "            if nums[fast] == 0:\n",
    "                if slow < 0: \n",
    "                    slow = fast\n",
    "                fast += 1\n",
    "            else:\n",
    "                if slow < 0: fast += 1\n",
    "                else: \n",
    "                    nums[slow] = nums[fast]\n",
    "                    slow += 1\n",
    "                    fast += 1\n",
    "        if(slow > 0):\n",
    "            while slow < n:\n",
    "                nums[slow] = 0\n",
    "                slow += 1\n",
    "# 方法2\n",
    "class Solution:\n",
    "    def moveZeroes(self, nums: List[int]) -> None:\n",
    "        pos = 0\n",
    "        for num in nums:\n",
    "            if num != 0: nums[pos] = num; pos += 1\n",
    "        while pos < len(nums):\n",
    "            nums[pos] = 0; pos += 1"
   ]
  },
  {
   "cell_type": "code",
   "execution_count": null,
   "metadata": {},
   "outputs": [],
   "source": []
  }
 ],
 "metadata": {
  "kernelspec": {
   "display_name": "Python 3",
   "language": "python",
   "name": "python3"
  },
  "language_info": {
   "codemirror_mode": {
    "name": "ipython",
    "version": 3
   },
   "file_extension": ".py",
   "mimetype": "text/x-python",
   "name": "python",
   "nbconvert_exporter": "python",
   "pygments_lexer": "ipython3",
   "version": "3.6.7"
  }
 },
 "nbformat": 4,
 "nbformat_minor": 2
}
