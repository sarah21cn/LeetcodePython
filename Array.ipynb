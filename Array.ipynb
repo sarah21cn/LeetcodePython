{
 "cells": [
  {
   "cell_type": "code",
   "execution_count": null,
   "metadata": {},
   "outputs": [],
   "source": [
    "# 283. Move Zeroes\n",
    "# 方法1\n",
    "class Solution:\n",
    "    def moveZeroes(self, nums: List[int]) -> None:\n",
    "        n = len(nums)\n",
    "        slow, fast = -1, 0\n",
    "        while fast < n:\n",
    "            if nums[fast] == 0:\n",
    "                if slow < 0: \n",
    "                    slow = fast\n",
    "                fast += 1\n",
    "            else:\n",
    "                if slow < 0: fast += 1\n",
    "                else: \n",
    "                    nums[slow] = nums[fast]\n",
    "                    slow += 1\n",
    "                    fast += 1\n",
    "        if(slow > 0):\n",
    "            while slow < n:\n",
    "                nums[slow] = 0\n",
    "                slow += 1\n",
    "# 方法2\n",
    "class Solution:\n",
    "    def moveZeroes(self, nums: List[int]) -> None:\n",
    "        pos = 0\n",
    "        for num in nums:\n",
    "            if num != 0: nums[pos] = num; pos += 1\n",
    "        while pos < len(nums):\n",
    "            nums[pos] = 0; pos += 1"
   ]
  },
  {
   "cell_type": "code",
   "execution_count": null,
   "metadata": {},
   "outputs": [],
   "source": [
    "# 1089. Duplicate Zeros\n",
    "class Solution:\n",
    "    def duplicateZeros(self, arr: List[int]) -> None:\n",
    "        n = len(arr)\n",
    "        shift = 0\n",
    "        for num in arr:\n",
    "            if num == 0: shift += 1\n",
    "        for i in range(n-1, -1, -1):\n",
    "            if i + shift < n:\n",
    "                arr[i+shift] = arr[i]\n",
    "            if arr[i] == 0:\n",
    "                shift -= 1\n",
    "                if i + shift < n:\n",
    "                    arr[i+shift] = arr[i]"
   ]
  },
  {
   "cell_type": "code",
   "execution_count": null,
   "metadata": {},
   "outputs": [],
   "source": [
    "# 75. Sort Colors \n",
    "class Solution:\n",
    "    def sortColors(self, nums: List[int]) -> None:\n",
    "        i = j = 0\n",
    "        for k in range(len(nums)):\n",
    "            tmp = nums[k]\n",
    "            nums[k] = 2\n",
    "            if tmp < 2:\n",
    "                nums[j] = 1\n",
    "                j += 1\n",
    "            if tmp == 0:\n",
    "                nums[i] = 0\n",
    "                i += 1"
   ]
  },
  {
   "cell_type": "code",
   "execution_count": null,
   "metadata": {},
   "outputs": [],
   "source": [
    "# 287. Find the Duplicate Number\n",
    "# 方法1：（二分）\n",
    "class Solution:\n",
    "    def findDuplicate(self, nums: List[int]) -> int:\n",
    "        low, high = 1, len(nums)\n",
    "        while low < high:\n",
    "            mid = (low + high) // 2\n",
    "            cnt = sum(x <= mid for x in nums)\n",
    "            if cnt > mid:\n",
    "                high = mid\n",
    "            else:\n",
    "                low = mid + 1\n",
    "        return low\n",
    "# 方法2：\n",
    "# 参考：http://bookshadow.com/weblog/2015/09/28/leetcode-find-duplicate-number/\n"
   ]
  }
 ],
 "metadata": {
  "kernelspec": {
   "display_name": "Python 3",
   "language": "python",
   "name": "python3"
  },
  "language_info": {
   "codemirror_mode": {
    "name": "ipython",
    "version": 3
   },
   "file_extension": ".py",
   "mimetype": "text/x-python",
   "name": "python",
   "nbconvert_exporter": "python",
   "pygments_lexer": "ipython3",
   "version": "3.6.7"
  }
 },
 "nbformat": 4,
 "nbformat_minor": 2
}
