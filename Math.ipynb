{
 "cells": [
  {
   "cell_type": "code",
   "execution_count": null,
   "metadata": {},
   "outputs": [],
   "source": [
    "# 461. Hamming Distance\n",
    "class Solution:\n",
    "    def hammingDistance(self, x: int, y: int) -> int:\n",
    "        return bin(x ^ y).count('1')"
   ]
  },
  {
   "cell_type": "code",
   "execution_count": null,
   "metadata": {},
   "outputs": [],
   "source": [
    "# 463. Island Perimeter\n",
    "class Solution:\n",
    "    def islandPerimeter(self, grid: List[List[int]]) -> int:\n",
    "        if not grid: return 0\n",
    "        islands, neighbors = 0, 0\n",
    "        n, m = len(grid), len(grid[0])\n",
    "        for i in range(n):\n",
    "            for j in range(m):\n",
    "                if(grid[i][j] == 1):\n",
    "                    islands += 1\n",
    "                    if(i < n-1 and grid[i+1][j] == 1): neighbors += 1\n",
    "                    if(j < m-1 and grid[i][j+1] == 1): neighbors += 1\n",
    "        return 4 * islands - 2 * neighbors"
   ]
  },
  {
   "cell_type": "code",
   "execution_count": null,
   "metadata": {},
   "outputs": [],
   "source": [
    "# 492. Construct the Rectangle\n",
    "# Solution1\n",
    "import sys\n",
    "import math\n",
    "\n",
    "class Solution:\n",
    "    def constructRectangle(self, area: int) -> List[int]:\n",
    "        couple_list = []\n",
    "        for i in range(1, int(math.sqrt(area))+1):\n",
    "            if(area % i == 0):\n",
    "                couple_list.append([area//i, i])\n",
    "        res = []\n",
    "        min_diff = sys.maxsize\n",
    "        for couple in couple_list:\n",
    "            diff = couple[0] - couple[1]\n",
    "            if(diff >= 0 and diff < min_diff):\n",
    "                res = couple\n",
    "                min_diff = diff\n",
    "        return res\n",
    "# Solution 2\n",
    "import math\n",
    "\n",
    "class Solution:\n",
    "    def constructRectangle(self, area: int) -> List[int]:\n",
    "        sqrt = int(math.sqrt(area))\n",
    "        while(area % sqrt != 0):\n",
    "            sqrt -= 1\n",
    "        return [area//sqrt, sqrt]"
   ]
  }
 ],
 "metadata": {
  "kernelspec": {
   "display_name": "Python 3",
   "language": "python",
   "name": "python3"
  },
  "language_info": {
   "codemirror_mode": {
    "name": "ipython",
    "version": 3
   },
   "file_extension": ".py",
   "mimetype": "text/x-python",
   "name": "python",
   "nbconvert_exporter": "python",
   "pygments_lexer": "ipython3",
   "version": "3.6.7"
  }
 },
 "nbformat": 4,
 "nbformat_minor": 2
}
