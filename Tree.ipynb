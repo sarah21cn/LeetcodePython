{
 "cells": [
  {
   "cell_type": "code",
   "execution_count": 1,
   "metadata": {},
   "outputs": [],
   "source": [
    "class TreeNode:\n",
    "    def __init__(self, x):\n",
    "        self.val = x\n",
    "        self.left = None\n",
    "        self.right = None"
   ]
  },
  {
   "cell_type": "code",
   "execution_count": 3,
   "metadata": {},
   "outputs": [],
   "source": [
    "# 102. Binary Tree Level Order Traversal\n",
    "# https://leetcode.com/problems/binary-tree-level-order-traversal/\n",
    "class Solution:\n",
    "    def levelOrder(self, root: TreeNode):\n",
    "        if not root: return []\n",
    "        ret, level = [], [root]\n",
    "        while level:\n",
    "            ret.append([node.val for node in level])\n",
    "            newLevel = []\n",
    "            for node in level:\n",
    "                if node.left:\n",
    "                    newLevel.append(node.left)\n",
    "                if node.right:\n",
    "                    newLevel.append(node.right)\n",
    "            level = newLevel\n",
    "        return ret"
   ]
  },
  {
   "cell_type": "code",
   "execution_count": null,
   "metadata": {},
   "outputs": [],
   "source": [
    "# 107. Binary Tree Level Order Traversal II\n",
    "# https://leetcode.com/problems/binary-tree-level-order-traversal-ii/\n",
    "class Solution:\n",
    "    def levelOrderBottom(self, root: TreeNode) -> List[List[int]]:\n",
    "        if not root: return []\n",
    "        ret, level = [], [root]\n",
    "        while level:\n",
    "            ret.append([node.val for node in level])\n",
    "            newLevel = []\n",
    "            for node in level:\n",
    "                if node.left:\n",
    "                    newLevel.append(node.left)\n",
    "                if node.right:\n",
    "                    newLevel.append(node.right)\n",
    "            level = newLevel\n",
    "        ret.reverse()\n",
    "        return ret"
   ]
  }
 ],
 "metadata": {
  "kernelspec": {
   "display_name": "Python 3",
   "language": "python",
   "name": "python3"
  },
  "language_info": {
   "codemirror_mode": {
    "name": "ipython",
    "version": 3
   },
   "file_extension": ".py",
   "mimetype": "text/x-python",
   "name": "python",
   "nbconvert_exporter": "python",
   "pygments_lexer": "ipython3",
   "version": "3.6.7"
  }
 },
 "nbformat": 4,
 "nbformat_minor": 2
}
