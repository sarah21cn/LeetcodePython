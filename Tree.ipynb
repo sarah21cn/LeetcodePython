{
 "cells": [
  {
   "cell_type": "code",
   "execution_count": 1,
   "metadata": {},
   "outputs": [],
   "source": [
    "class TreeNode:\n",
    "    def __init__(self, x):\n",
    "        self.val = x\n",
    "        self.left = None\n",
    "        self.right = None"
   ]
  },
  {
   "cell_type": "code",
   "execution_count": 3,
   "metadata": {},
   "outputs": [],
   "source": [
    "# 102. Binary Tree Level Order Traversal\n",
    "# https://leetcode.com/problems/binary-tree-level-order-traversal/\n",
    "class Solution:\n",
    "    def levelOrder(self, root: TreeNode):\n",
    "        if not root: return []\n",
    "        ret, level = [], [root]\n",
    "        while level:\n",
    "            ret.append([node.val for node in level])\n",
    "            newLevel = []\n",
    "            for node in level:\n",
    "                if node.left:\n",
    "                    newLevel.append(node.left)\n",
    "                if node.right:\n",
    "                    newLevel.append(node.right)\n",
    "            level = newLevel\n",
    "        return ret"
   ]
  },
  {
   "cell_type": "code",
   "execution_count": null,
   "metadata": {},
   "outputs": [],
   "source": [
    "# 107. Binary Tree Level Order Traversal II\n",
    "# https://leetcode.com/problems/binary-tree-level-order-traversal-ii/\n",
    "class Solution:\n",
    "    def levelOrderBottom(self, root: TreeNode) -> List[List[int]]:\n",
    "        if not root: return []\n",
    "        ret, level = [], [root]\n",
    "        while level:\n",
    "            ret.append([node.val for node in level])\n",
    "            newLevel = []\n",
    "            for node in level:\n",
    "                if node.left:\n",
    "                    newLevel.append(node.left)\n",
    "                if node.right:\n",
    "                    newLevel.append(node.right)\n",
    "            level = newLevel\n",
    "        ret.reverse()\n",
    "        return ret"
   ]
  },
  {
   "cell_type": "code",
   "execution_count": null,
   "metadata": {},
   "outputs": [],
   "source": [
    "# 103. Binary Tree Zigzag Level Order Traversal\n",
    "# https://leetcode.com/problems/binary-tree-zigzag-level-order-traversal/\n",
    "class Solution:\n",
    "    def zigzagLevelOrder(self, root: TreeNode) -> List[List[int]]:\n",
    "        if not root: return []\n",
    "        ret, level = [], [root]\n",
    "        zigzag = False\n",
    "        while level:\n",
    "            ret.append([node.val for node in (reversed(level) if zigzag else level)])\n",
    "            zigzag = not zigzag\n",
    "            newLevel = []\n",
    "            for node in level:\n",
    "                if node.left:\n",
    "                    newLevel.append(node.left)\n",
    "                if node.right:\n",
    "                    newLevel.append(node.right)\n",
    "            level = newLevel\n",
    "        return ret"
   ]
  },
  {
   "cell_type": "code",
   "execution_count": null,
   "metadata": {},
   "outputs": [],
   "source": [
    "# 144. Binary Tree Preorder Traversal\n",
    "# https://leetcode.com/problems/binary-tree-preorder-traversal/\n",
    "# 递归\n",
    "class Solution:\n",
    "    def preorderTraversal(self, root: TreeNode) -> List[int]:\n",
    "        if not root: return []\n",
    "        res = []\n",
    "        res.append(root.val)\n",
    "        res.extend(self.preorderTraversal(root.left))\n",
    "        res.extend(self.preorderTraversal(root.right))\n",
    "        return res\n",
    "# 循环\n",
    "class Solution:\n",
    "    def preorderTraversal(self, root: TreeNode) -> List[int]:\n",
    "        if not root: return []\n",
    "        res = []; stack = []\n",
    "        stack.append(root)\n",
    "        while stack:\n",
    "            node = stack.pop()\n",
    "            res.append(node.val)\n",
    "            if node.right:\n",
    "                stack.append(node.right)\n",
    "            if node.left:\n",
    "                stack.append(node.left)\n",
    "        return res"
   ]
  },
  {
   "cell_type": "code",
   "execution_count": null,
   "metadata": {},
   "outputs": [],
   "source": [
    "# 94. Binary Tree Inorder Traversal\n",
    "# https://leetcode.com/problems/binary-tree-inorder-traversal/\n",
    "# 递归\n",
    "class Solution:\n",
    "    def inorderTraversal(self, root: TreeNode) -> List[int]:\n",
    "        res = []\n",
    "        if not root: return res\n",
    "        res.extend(self.inorderTraversal(root.left))\n",
    "        res.append(root.val)\n",
    "        res.extend(self.inorderTraversal(root.right))\n",
    "        return res\n",
    "# 循环\n",
    "class Solution:\n",
    "    def inorderTraversal(self, root: TreeNode) -> List[int]:\n",
    "        if not root: return []\n",
    "        res, stack = [], []\n",
    "        while root:\n",
    "            stack.append(root)\n",
    "            root = root.left\n",
    "        while stack:\n",
    "            node = stack.pop()\n",
    "            res.append(node.val)\n",
    "            if node.right:\n",
    "                node = node.right\n",
    "                while node:\n",
    "                    stack.append(node)\n",
    "                    node = node.left\n",
    "        return res"
   ]
  },
  {
   "cell_type": "code",
   "execution_count": null,
   "metadata": {},
   "outputs": [],
   "source": [
    "# 145. Binary Tree Postorder Traversal\n",
    "# https://leetcode.com/problems/binary-tree-postorder-traversal/\n",
    "# 递归\n",
    "class Solution:\n",
    "    def postorderTraversal(self, root: TreeNode) -> List[int]:\n",
    "        if not root: return []\n",
    "        res = []\n",
    "        res.extend(self.postorderTraversal(root.left))\n",
    "        res.extend(self.postorderTraversal(root.right))\n",
    "        res.append(root.val)\n",
    "        return res\n",
    "# 循环\n"
   ]
  },
  {
   "cell_type": "code",
   "execution_count": null,
   "metadata": {},
   "outputs": [],
   "source": [
    "# 106. Construct Binary Tree from Inorder and Postorder Traversal\n",
    "# https://leetcode.com/problems/construct-binary-tree-from-inorder-and-postorder-traversal/\n",
    "class Solution:\n",
    "    def buildTree(self, inorder: List[int], postorder: List[int]) -> TreeNode:\n",
    "        if not inorder or not postorder: return None\n",
    "        root = TreeNode(postorder.pop())\n",
    "        index = inorder.index(root.val)\n",
    "        root.right = self.buildTree(inorder[index+1:], postorder)\n",
    "        root.left = self.buildTree(inorder[:index], postorder)\n",
    "        return root"
   ]
  },
  {
   "cell_type": "code",
   "execution_count": null,
   "metadata": {},
   "outputs": [],
   "source": [
    "# 124. Binary Tree Maximum Path Sum\n"
   ]
  },
  {
   "cell_type": "code",
   "execution_count": null,
   "metadata": {},
   "outputs": [],
   "source": [
    "class Solution:\n",
    "    def maxDepth(self, root: TreeNode) -> int:\n",
    "        if not root: return 0\n",
    "        return max(self.maxDepth(root.left), self.maxDepth(root.right)) + 1"
   ]
  }
 ],
 "metadata": {
  "kernelspec": {
   "display_name": "Python 3",
   "language": "python",
   "name": "python3"
  },
  "language_info": {
   "codemirror_mode": {
    "name": "ipython",
    "version": 3
   },
   "file_extension": ".py",
   "mimetype": "text/x-python",
   "name": "python",
   "nbconvert_exporter": "python",
   "pygments_lexer": "ipython3",
   "version": "3.6.7"
  }
 },
 "nbformat": 4,
 "nbformat_minor": 2
}
