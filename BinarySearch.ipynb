{
 "cells": [
  {
   "cell_type": "code",
   "execution_count": null,
   "metadata": {},
   "outputs": [],
   "source": [
    "# * 14. First Position of Target(LintCode)\n",
    "class Solution:\n",
    "    def binarySearch(self, nums, target):\n",
    "        start, end = 0, len(nums)-1\n",
    "        while start < end:\n",
    "            mid = (start + end) // 2\n",
    "            if target > nums[mid]:\n",
    "                start = mid + 1\n",
    "            else:\n",
    "                end = mid\n",
    "        return start if nums[start] == target else -1"
   ]
  },
  {
   "cell_type": "code",
   "execution_count": null,
   "metadata": {},
   "outputs": [],
   "source": [
    "# * 35. Search Insert Position\n",
    "class Solution:\n",
    "    def searchInsert(self, nums: List[int], target: int) -> int:\n",
    "        start, end = 0, len(nums)-1\n",
    "        while start + 1 < end:\n",
    "            mid = (start + end) // 2\n",
    "            if target > nums[mid]:\n",
    "                start = mid\n",
    "            elif target < nums[mid]:\n",
    "                end = mid\n",
    "            else:\n",
    "                return mid\n",
    "        if nums[start] >= target:\n",
    "            return start\n",
    "        elif nums[end] < target:\n",
    "            return end + 1\n",
    "        else:\n",
    "            return end"
   ]
  },
  {
   "cell_type": "code",
   "execution_count": null,
   "metadata": {},
   "outputs": [],
   "source": [
    "# * Search for a Range (LintCode)\n",
    "class Solution:\n",
    "    def searchRange(self, A, target):\n",
    "        n = len(A)\n",
    "        if n == 0: return [-1,-1]\n",
    "        res = []\n",
    "        start, end = 0, n-1\n",
    "        while start <= end:\n",
    "            mid = (start + end) // 2\n",
    "            if A[mid] >= target:\n",
    "                end = mid -1\n",
    "            else:\n",
    "                start = mid + 1\n",
    "        if start < n and A[start] == target: res.append(start)\n",
    "        else: return [-1,-1]\n",
    "        end = n - 1\n",
    "        while start <= end:\n",
    "            mid = (start + end) // 2\n",
    "            if A[mid] <= target:\n",
    "                start = mid + 1\n",
    "            else:\n",
    "                end = mid - 1\n",
    "        res.append(end)\n",
    "        return res"
   ]
  },
  {
   "cell_type": "code",
   "execution_count": null,
   "metadata": {},
   "outputs": [],
   "source": [
    "# 74. Search a 2D Matrix\n",
    "class Solution:\n",
    "    def searchMatrix(self, matrix: List[List[int]], target: int) -> bool:\n",
    "        if not matrix: return False\n",
    "        n = len(matrix); m = len(matrix[0])\n",
    "        start, end = 0, m * n - 1\n",
    "        while start <= end:\n",
    "            mid = (start + end) // 2\n",
    "            value = matrix[mid//m][mid%m]\n",
    "            if target > value:\n",
    "                start = mid + 1\n",
    "            elif target < value:\n",
    "                end = mid - 1\n",
    "            else:\n",
    "                return True\n",
    "        return False"
   ]
  },
  {
   "cell_type": "code",
   "execution_count": null,
   "metadata": {},
   "outputs": [],
   "source": [
    "# 240. Search a 2D Matrix II\n",
    "class Solution:\n",
    "    def searchMatrix(self, matrix, target):\n",
    "        if not matrix: return False\n",
    "        m, n = len(matrix), len(matrix[0])\n",
    "        row, column = 0, n-1\n",
    "        while row < m and column >= 0:\n",
    "            if target > matrix[row][column]:\n",
    "                row += 1\n",
    "            elif target < matrix[row][column]:\n",
    "                column -= 1\n",
    "            else:\n",
    "                return True\n",
    "        return False"
   ]
  },
  {
   "cell_type": "code",
   "execution_count": null,
   "metadata": {},
   "outputs": [],
   "source": [
    "# 278. First Bad Version\n",
    "class Solution:\n",
    "    def firstBadVersion(self, n):\n",
    "        left, right = 1, n\n",
    "        while left < right:\n",
    "            mid = (left + right) // 2\n",
    "            if isBadVersion(mid):\n",
    "                right = mid\n",
    "            else:\n",
    "                left = mid + 1\n",
    "        return left"
   ]
  },
  {
   "cell_type": "code",
   "execution_count": null,
   "metadata": {},
   "outputs": [],
   "source": []
  }
 ],
 "metadata": {
  "kernelspec": {
   "display_name": "Python 3",
   "language": "python",
   "name": "python3"
  },
  "language_info": {
   "codemirror_mode": {
    "name": "ipython",
    "version": 3
   },
   "file_extension": ".py",
   "mimetype": "text/x-python",
   "name": "python",
   "nbconvert_exporter": "python",
   "pygments_lexer": "ipython3",
   "version": "3.6.7"
  }
 },
 "nbformat": 4,
 "nbformat_minor": 2
}
